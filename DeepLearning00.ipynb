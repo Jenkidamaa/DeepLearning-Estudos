{
  "nbformat": 4,
  "nbformat_minor": 0,
  "metadata": {
    "colab": {
      "name": "DeepLearning00.ipynb",
      "provenance": [],
      "collapsed_sections": [],
      "authorship_tag": "ABX9TyNx1qMGqCa7KBvfoe5u1DmA",
      "include_colab_link": true
    },
    "kernelspec": {
      "name": "python3",
      "display_name": "Python 3"
    },
    "language_info": {
      "name": "python"
    }
  },
  "cells": [
    {
      "cell_type": "markdown",
      "metadata": {
        "id": "view-in-github",
        "colab_type": "text"
      },
      "source": [
        "<a href=\"https://colab.research.google.com/github/Jenkidamaa/DeepLearning-estudos/blob/main/DeepLearning00.ipynb\" target=\"_parent\"><img src=\"https://colab.research.google.com/assets/colab-badge.svg\" alt=\"Open In Colab\"/></a>"
      ]
    },
    {
      "cell_type": "code",
      "metadata": {
        "id": "ttj916CdoEqa"
      },
      "source": [
        "import torch\n",
        "import numpy as np\n",
        "from torch import nn\n"
      ],
      "execution_count": 1,
      "outputs": []
    },
    {
      "cell_type": "code",
      "metadata": {
        "id": "XULvvYZMobhl"
      },
      "source": [
        "class LineNetwork(nn.Module):\n",
        "  # Inicialização\n",
        "  def __init__(self):\n",
        "    super().__init__()\n",
        "    self.layers = nn.Sequential( #Sequential ira segur a ordem das camadas\n",
        "        nn.linear(1,1)\n",
        "    )\n",
        "\n",
        "  #O que a rede ira executar com o dado de entrada\n",
        "  def foward(self,x):\n",
        "    return self.layers(x)"
      ],
      "execution_count": 3,
      "outputs": []
    },
    {
      "cell_type": "code",
      "metadata": {
        "id": "vfAjEMqGoMIJ"
      },
      "source": [
        "from torch.utils.data import Dataset, DataLoader\n",
        "import torch.distributions.uniform as urand"
      ],
      "execution_count": 4,
      "outputs": []
    },
    {
      "cell_type": "code",
      "metadata": {
        "id": "DLc0nsug1ZmB"
      },
      "source": [
        "class AlgebraicDataset(Dataset):\n",
        "  def __init__(self, f, interval, nsamples):\n",
        "    X = urand.Uniform(interval[0], interval[1]).sample([nsamples])\n",
        "    self.data = [(x, f(x)) for x in X]\n",
        "\n",
        "  def __len__(self):\n",
        "    return len(self.data)\n",
        "\n",
        "  def __getitem__(self, idx):\n",
        "    return self.data[idx]"
      ],
      "execution_count": 5,
      "outputs": []
    },
    {
      "cell_type": "code",
      "metadata": {
        "id": "HuS6ntbk1e0g"
      },
      "source": [
        "line = lambda x: 2*x + 3\n",
        "interval = (-10, 10)\n",
        "train_nsamples = 1000\n",
        "test_nsamples = 100"
      ],
      "execution_count": 6,
      "outputs": []
    },
    {
      "cell_type": "code",
      "metadata": {
        "id": "Q1Fy11uV28EI"
      },
      "source": [
        "train_dataset = AlgebraicDataset(line, interval, train_nsamples)\n",
        "test_dataset = AlgebraicDataset(line, interval, test_nsamples)\n",
        "\n",
        "train_dataloader = DataLoader(train_dataset, batch_size=train_nsamples, shuffle=True)\n",
        "test_dataloader = DataLoader(test_dataset, batch_size=test_nsamples, shuffle=True)"
      ],
      "execution_count": 7,
      "outputs": []
    },
    {
      "cell_type": "code",
      "metadata": {
        "colab": {
          "base_uri": "https://localhost:8080/"
        },
        "id": "sxF-shNU3APQ",
        "outputId": "d12d9602-03a0-4867-a387-de0e56cdd93d"
      },
      "source": [
        "device = \"cuda\" if torch.cuda.is_available() else \"cpu\"\n",
        "print(f\"Rodando na {device}\")"
      ],
      "execution_count": 8,
      "outputs": [
        {
          "output_type": "stream",
          "name": "stdout",
          "text": [
            "Rodando na cpu\n"
          ]
        }
      ]
    }
  ]
}